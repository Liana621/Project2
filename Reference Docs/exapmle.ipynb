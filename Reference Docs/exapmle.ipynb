{
 "cells": [
  {
   "cell_type": "markdown",
   "metadata": {},
   "source": [
    "### USDA Quick Stats API Example\n",
    "https://quickstats.nass.usda.gov/api"
   ]
  },
  {
   "cell_type": "markdown",
   "metadata": {},
   "source": [
    "Import from the module created specifically to interact with the USDA Quick Stats api. The package is stored in the /utils folder. This automatically gets the keys saved in the keys.db file in the /data folder."
   ]
  },
  {
   "cell_type": "code",
   "execution_count": 1,
   "metadata": {},
   "outputs": [
    {
     "name": "stdout",
     "output_type": "stream",
     "text": [
      "Connecting to keys.db\n",
      "Retrieved Keys\n",
      "Connection to keys.db closed\n"
     ]
    }
   ],
   "source": [
    "from utils.request import USDA "
   ]
  },
  {
   "cell_type": "code",
   "execution_count": 2,
   "metadata": {},
   "outputs": [],
   "source": [
    "#Instantiate the USDA class. \n",
    "usda = USDA()"
   ]
  },
  {
   "cell_type": "markdown",
   "metadata": {},
   "source": [
    "Below is an example of a query for the USDA api(see reference link in title). These are parameters that are passed to the api. The query is stored in a variable. \n",
    "\n",
    "\n",
    "I automatically pass the keys so no need for us to worry."
   ]
  },
  {
   "cell_type": "code",
   "execution_count": 3,
   "metadata": {},
   "outputs": [],
   "source": [
    "#API Query for total crop production by State\n",
    "production_total = {\n",
    "        'source_desc':'CENSUS',\n",
    "        'sector_desc': 'CROPS',\n",
    "        'group':'CROP TOTALS',\n",
    "        'commodity_desc':'CROP TOTALS',\n",
    "        'statisticcat_desc':'PRODUCTION',\n",
    "        'year':2017,\n",
    "        'format':'JSON'\n",
    "        }"
   ]
  },
  {
   "cell_type": "markdown",
   "metadata": {},
   "source": [
    "now call the **get_data** function that is stored in the USDA class (this is known as a class method). Pass the **production_total** as an argument. THERE IS A 50K Limit. "
   ]
  },
  {
   "cell_type": "code",
   "execution_count": 5,
   "metadata": {},
   "outputs": [
    {
     "name": "stdout",
     "output_type": "stream",
     "text": [
      "Passing key to query params..\n",
      "Connecting to http://quickstats.nass.usda.gov/api/api_GET/?\n",
      "Success!\n"
     ]
    }
   ],
   "source": [
    "response = usda.get_data(production_total)"
   ]
  },
  {
   "cell_type": "markdown",
   "metadata": {},
   "source": [
    "Thats it! The data is now stored in the **Response** variable. Here i am creating a clean df from the json data. "
   ]
  },
  {
   "cell_type": "code",
   "execution_count": 6,
   "metadata": {},
   "outputs": [],
   "source": [
    "from pandas.io.json import json_normalize"
   ]
  },
  {
   "cell_type": "code",
   "execution_count": 9,
   "metadata": {},
   "outputs": [],
   "source": [
    "data = json_normalize(response['data'])"
   ]
  },
  {
   "cell_type": "code",
   "execution_count": 10,
   "metadata": {},
   "outputs": [
    {
     "data": {
      "text/html": [
       "<div>\n",
       "<style scoped>\n",
       "    .dataframe tbody tr th:only-of-type {\n",
       "        vertical-align: middle;\n",
       "    }\n",
       "\n",
       "    .dataframe tbody tr th {\n",
       "        vertical-align: top;\n",
       "    }\n",
       "\n",
       "    .dataframe thead th {\n",
       "        text-align: right;\n",
       "    }\n",
       "</style>\n",
       "<table border=\"1\" class=\"dataframe\">\n",
       "  <thead>\n",
       "    <tr style=\"text-align: right;\">\n",
       "      <th></th>\n",
       "      <th>asd_code</th>\n",
       "      <th>congr_district_code</th>\n",
       "      <th>prodn_practice_desc</th>\n",
       "      <th>source_desc</th>\n",
       "      <th>county_name</th>\n",
       "      <th>domain_desc</th>\n",
       "      <th>asd_desc</th>\n",
       "      <th>CV (%)</th>\n",
       "      <th>county_code</th>\n",
       "      <th>reference_period_desc</th>\n",
       "      <th>...</th>\n",
       "      <th>end_code</th>\n",
       "      <th>state_name</th>\n",
       "      <th>state_ansi</th>\n",
       "      <th>domaincat_desc</th>\n",
       "      <th>region_desc</th>\n",
       "      <th>watershed_desc</th>\n",
       "      <th>zip_5</th>\n",
       "      <th>load_time</th>\n",
       "      <th>week_ending</th>\n",
       "      <th>freq_desc</th>\n",
       "    </tr>\n",
       "  </thead>\n",
       "  <tbody>\n",
       "    <tr>\n",
       "      <th>0</th>\n",
       "      <td>60</td>\n",
       "      <td></td>\n",
       "      <td>PRODUCTION CONTRACT</td>\n",
       "      <td>CENSUS</td>\n",
       "      <td>HOUSTON</td>\n",
       "      <td>TOTAL</td>\n",
       "      <td>WIREGRASS</td>\n",
       "      <td>0.4</td>\n",
       "      <td>069</td>\n",
       "      <td>YEAR</td>\n",
       "      <td>...</td>\n",
       "      <td>00</td>\n",
       "      <td>ALABAMA</td>\n",
       "      <td>01</td>\n",
       "      <td>NOT SPECIFIED</td>\n",
       "      <td></td>\n",
       "      <td></td>\n",
       "      <td></td>\n",
       "      <td>2018-02-01 00:00:00</td>\n",
       "      <td></td>\n",
       "      <td>ANNUAL</td>\n",
       "    </tr>\n",
       "    <tr>\n",
       "      <th>1</th>\n",
       "      <td>80</td>\n",
       "      <td></td>\n",
       "      <td>PRODUCTION CONTRACT</td>\n",
       "      <td>CENSUS</td>\n",
       "      <td>YUMA</td>\n",
       "      <td>TOTAL</td>\n",
       "      <td>SOUTHERN</td>\n",
       "      <td>82.1</td>\n",
       "      <td>027</td>\n",
       "      <td>YEAR</td>\n",
       "      <td>...</td>\n",
       "      <td>00</td>\n",
       "      <td>ARIZONA</td>\n",
       "      <td>04</td>\n",
       "      <td>NOT SPECIFIED</td>\n",
       "      <td></td>\n",
       "      <td></td>\n",
       "      <td></td>\n",
       "      <td>2018-02-01 00:00:00</td>\n",
       "      <td></td>\n",
       "      <td>ANNUAL</td>\n",
       "    </tr>\n",
       "    <tr>\n",
       "      <th>2</th>\n",
       "      <td>60</td>\n",
       "      <td></td>\n",
       "      <td>PRODUCTION CONTRACT</td>\n",
       "      <td>CENSUS</td>\n",
       "      <td>LONOKE</td>\n",
       "      <td>TOTAL</td>\n",
       "      <td>EAST CENTRAL</td>\n",
       "      <td>0.2</td>\n",
       "      <td>085</td>\n",
       "      <td>YEAR</td>\n",
       "      <td>...</td>\n",
       "      <td>00</td>\n",
       "      <td>ARKANSAS</td>\n",
       "      <td>05</td>\n",
       "      <td>NOT SPECIFIED</td>\n",
       "      <td></td>\n",
       "      <td></td>\n",
       "      <td></td>\n",
       "      <td>2018-02-01 00:00:00</td>\n",
       "      <td></td>\n",
       "      <td>ANNUAL</td>\n",
       "    </tr>\n",
       "    <tr>\n",
       "      <th>3</th>\n",
       "      <td>40</td>\n",
       "      <td></td>\n",
       "      <td>PRODUCTION CONTRACT</td>\n",
       "      <td>CENSUS</td>\n",
       "      <td>SAN LUIS OBISPO</td>\n",
       "      <td>TOTAL</td>\n",
       "      <td>CENTRAL COAST</td>\n",
       "      <td>(L)</td>\n",
       "      <td>079</td>\n",
       "      <td>YEAR</td>\n",
       "      <td>...</td>\n",
       "      <td>00</td>\n",
       "      <td>CALIFORNIA</td>\n",
       "      <td>06</td>\n",
       "      <td>NOT SPECIFIED</td>\n",
       "      <td></td>\n",
       "      <td></td>\n",
       "      <td></td>\n",
       "      <td>2018-02-01 00:00:00</td>\n",
       "      <td></td>\n",
       "      <td>ANNUAL</td>\n",
       "    </tr>\n",
       "    <tr>\n",
       "      <th>4</th>\n",
       "      <td>80</td>\n",
       "      <td></td>\n",
       "      <td>PRODUCTION CONTRACT</td>\n",
       "      <td>CENSUS</td>\n",
       "      <td>RIVERSIDE</td>\n",
       "      <td>TOTAL</td>\n",
       "      <td>SOUTHERN CALIFORNIA</td>\n",
       "      <td>0.4</td>\n",
       "      <td>065</td>\n",
       "      <td>YEAR</td>\n",
       "      <td>...</td>\n",
       "      <td>00</td>\n",
       "      <td>CALIFORNIA</td>\n",
       "      <td>06</td>\n",
       "      <td>NOT SPECIFIED</td>\n",
       "      <td></td>\n",
       "      <td></td>\n",
       "      <td></td>\n",
       "      <td>2018-02-01 00:00:00</td>\n",
       "      <td></td>\n",
       "      <td>ANNUAL</td>\n",
       "    </tr>\n",
       "  </tbody>\n",
       "</table>\n",
       "<p>5 rows × 39 columns</p>\n",
       "</div>"
      ],
      "text/plain": [
       "  asd_code congr_district_code  prodn_practice_desc source_desc  \\\n",
       "0       60                      PRODUCTION CONTRACT      CENSUS   \n",
       "1       80                      PRODUCTION CONTRACT      CENSUS   \n",
       "2       60                      PRODUCTION CONTRACT      CENSUS   \n",
       "3       40                      PRODUCTION CONTRACT      CENSUS   \n",
       "4       80                      PRODUCTION CONTRACT      CENSUS   \n",
       "\n",
       "       county_name domain_desc             asd_desc CV (%) county_code  \\\n",
       "0          HOUSTON       TOTAL            WIREGRASS    0.4         069   \n",
       "1             YUMA       TOTAL             SOUTHERN   82.1         027   \n",
       "2           LONOKE       TOTAL         EAST CENTRAL    0.2         085   \n",
       "3  SAN LUIS OBISPO       TOTAL        CENTRAL COAST    (L)         079   \n",
       "4        RIVERSIDE       TOTAL  SOUTHERN CALIFORNIA    0.4         065   \n",
       "\n",
       "  reference_period_desc  ... end_code  state_name state_ansi domaincat_desc  \\\n",
       "0                  YEAR  ...       00     ALABAMA         01  NOT SPECIFIED   \n",
       "1                  YEAR  ...       00     ARIZONA         04  NOT SPECIFIED   \n",
       "2                  YEAR  ...       00    ARKANSAS         05  NOT SPECIFIED   \n",
       "3                  YEAR  ...       00  CALIFORNIA         06  NOT SPECIFIED   \n",
       "4                  YEAR  ...       00  CALIFORNIA         06  NOT SPECIFIED   \n",
       "\n",
       "  region_desc watershed_desc zip_5            load_time week_ending freq_desc  \n",
       "0                                   2018-02-01 00:00:00                ANNUAL  \n",
       "1                                   2018-02-01 00:00:00                ANNUAL  \n",
       "2                                   2018-02-01 00:00:00                ANNUAL  \n",
       "3                                   2018-02-01 00:00:00                ANNUAL  \n",
       "4                                   2018-02-01 00:00:00                ANNUAL  \n",
       "\n",
       "[5 rows x 39 columns]"
      ]
     },
     "execution_count": 10,
     "metadata": {},
     "output_type": "execute_result"
    }
   ],
   "source": [
    "data.head()"
   ]
  },
  {
   "cell_type": "code",
   "execution_count": null,
   "metadata": {},
   "outputs": [],
   "source": []
  }
 ],
 "metadata": {
  "kernelspec": {
   "display_name": "Python (Bootcamp)",
   "language": "python",
   "name": "bootcamp"
  },
  "language_info": {
   "codemirror_mode": {
    "name": "ipython",
    "version": 3
   },
   "file_extension": ".py",
   "mimetype": "text/x-python",
   "name": "python",
   "nbconvert_exporter": "python",
   "pygments_lexer": "ipython3",
   "version": "3.7.5"
  }
 },
 "nbformat": 4,
 "nbformat_minor": 4
}
